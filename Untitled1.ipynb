{
  "nbformat": 4,
  "nbformat_minor": 0,
  "metadata": {
    "colab": {
      "provenance": []
    },
    "kernelspec": {
      "name": "python3",
      "display_name": "Python 3"
    },
    "language_info": {
      "name": "python"
    }
  },
  "cells": [
    {
      "cell_type": "code",
      "execution_count": 1,
      "metadata": {
        "colab": {
          "base_uri": "https://localhost:8080/"
        },
        "id": "fRED4XmNzpzl",
        "outputId": "497d8ea3-b620-4343-8c8d-b28d89cd6149"
      },
      "outputs": [
        {
          "output_type": "stream",
          "name": "stdout",
          "text": [
            "Студент має принаймні одну двійку з дисципліни!\n"
          ]
        }
      ],
      "source": [
        "grades = (4, 5, 4, 4, 3, 5, 3, 3, 2, 5, 5, 5)\n",
        "\n",
        "has_two = False\n",
        "\n",
        "for grade in grades:\n",
        "    if grade == 2:\n",
        "        has_two = True\n",
        "        break\n",
        "\n",
        "if has_two:\n",
        "    print('Студент має принаймні одну двійку з дисципліни!')\n",
        "else:\n",
        "    print('Студент вчиться без двійок')\n"
      ]
    },
    {
      "cell_type": "code",
      "source": [
        "students = {\"Васильєв\": 3.5, \"Семенов\": 4.0, \"Петров\": 4.5, \"Іванов\": 3.0, \"Мар'їн\": 5.0}\n",
        "\n",
        "for student in students.keys():\n",
        "    # Додайте один бал і перевірте, чи не більше 5\n",
        "    students[student] = min(students[student] + 1, 5.0)\n",
        "\n",
        "students\n"
      ],
      "metadata": {
        "colab": {
          "base_uri": "https://localhost:8080/"
        },
        "id": "I3nP-KYq0DF7",
        "outputId": "8d05a5ad-2f32-46c6-baa7-fa2c0b17c000"
      },
      "execution_count": 2,
      "outputs": [
        {
          "output_type": "execute_result",
          "data": {
            "text/plain": [
              "{'Васильєв': 4.5, 'Семенов': 5.0, 'Петров': 5.0, 'Іванов': 4.0, \"Мар'їн\": 5.0}"
            ]
          },
          "metadata": {},
          "execution_count": 2
        }
      ]
    },
    {
      "cell_type": "code",
      "source": [
        "responces = [\"Іванов\", \"Петров\", \"Сидоров\", \"Васильєв\", \"Семенов\", \"Іванов\", \"Мар'їн\", \"Сидоров\", \"Дмитрієв\", \"Іванов\"]\n",
        "print(\"Всього анкет заповнено:\", len(responces))\n",
        "\n",
        "# Створіть множину із списку responces, це призведе до видалення дублікатів\n",
        "respondents = set(responces)\n",
        "\n",
        "print(\"Всього респондентів:\", len(respondents))\n"
      ],
      "metadata": {
        "colab": {
          "base_uri": "https://localhost:8080/"
        },
        "id": "XT6Y0pmN0I3n",
        "outputId": "9d69e551-3c49-4d3e-8bf6-bed64402e6d3"
      },
      "execution_count": 3,
      "outputs": [
        {
          "output_type": "stream",
          "name": "stdout",
          "text": [
            "Всього анкет заповнено: 10\n",
            "Всього респондентів: 7\n"
          ]
        }
      ]
    },
    {
      "cell_type": "code",
      "source": [],
      "metadata": {
        "id": "v6ZDTAM00RG_"
      },
      "execution_count": null,
      "outputs": []
    }
  ]
}